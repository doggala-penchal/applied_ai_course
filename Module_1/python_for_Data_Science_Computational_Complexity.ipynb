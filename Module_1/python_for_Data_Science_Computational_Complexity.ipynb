{
 "metadata": {
  "language_info": {
   "codemirror_mode": {
    "name": "ipython",
    "version": 3
   },
   "file_extension": ".py",
   "mimetype": "text/x-python",
   "name": "python",
   "nbconvert_exporter": "python",
   "pygments_lexer": "ipython3",
   "version": "3.8.3-final"
  },
  "orig_nbformat": 2,
  "kernelspec": {
   "name": "python3",
   "display_name": "Python 3.8.3 64-bit ('ML_COURSE': conda)",
   "metadata": {
    "interpreter": {
     "hash": "4e373a7bcbe8aeb1ad3ed4327ec2b86a8c8f03d08f96d378898be636831c1609"
    }
   }
  }
 },
 "nbformat": 4,
 "nbformat_minor": 2,
 "cells": [
  {
   "cell_type": "code",
   "execution_count": 2,
   "metadata": {},
   "outputs": [],
   "source": [
    "import numpy as np\n",
    "import random"
   ]
  },
  {
   "cell_type": "code",
   "execution_count": 3,
   "metadata": {},
   "outputs": [
    {
     "output_type": "execute_result",
     "data": {
      "text/plain": [
       "array([72, 38, 47, 28,  0, 82, 96, 61, 84, 20, 51, 27, 19, 69, 13, 54, 24,\n",
       "       35, 89,  9, 22, 98, 87, 63,  4, 34, 94, 85, 39,  5,  3,  1,  7, 15,\n",
       "       97, 95, 41, 56, 18, 58, 52, 60, 36, 16, 93, 83, 88, 43, 80, 91, 53,\n",
       "       99, 21, 75, 49, 68, 11, 37, 65,  2, 33, 62, 78, 79, 92, 45, 66, 86,\n",
       "       26, 55, 73, 29, 40,  8, 81, 42, 23, 76, 50, 67, 90, 71, 44, 32, 70,\n",
       "       17, 12, 77, 59, 64, 74, 14, 10, 31, 30,  6, 57, 48, 25, 46])"
      ]
     },
     "metadata": {},
     "execution_count": 3
    }
   ],
   "source": [
    "l = np.arange(100)\n",
    "random.shuffle(l)\n",
    "l"
   ]
  },
  {
   "cell_type": "code",
   "execution_count": 6,
   "metadata": {},
   "outputs": [
    {
     "output_type": "stream",
     "name": "stdout",
     "text": [
      "31\n"
     ]
    }
   ],
   "source": [
    "q = 31\n",
    "isFound = False\n",
    "for i in l:\n",
    "    if i==q:\n",
    "        print(i)\n",
    "        isFound=True\n",
    "if isFound == False:\n",
    "    print(\"Doesn't have in l\")\n",
    "# Here Computation is in O(n)"
   ]
  },
  {
   "cell_type": "code",
   "execution_count": null,
   "metadata": {},
   "outputs": [],
   "source": []
  }
 ]
}