{
 "metadata": {
  "language_info": {
   "codemirror_mode": {
    "name": "ipython",
    "version": 3
   },
   "file_extension": ".py",
   "mimetype": "text/x-python",
   "name": "python",
   "nbconvert_exporter": "python",
   "pygments_lexer": "ipython3",
   "version": "3.8.3-final"
  },
  "orig_nbformat": 2,
  "kernelspec": {
   "name": "python3",
   "display_name": "Python 3.8.3 64-bit ('ML_COURSE': conda)",
   "metadata": {
    "interpreter": {
     "hash": "4e373a7bcbe8aeb1ad3ed4327ec2b86a8c8f03d08f96d378898be636831c1609"
    }
   }
  }
 },
 "nbformat": 4,
 "nbformat_minor": 2,
 "cells": [
  {
   "source": [
    "# Objective : Learning to solve basic python programs."
   ],
   "cell_type": "markdown",
   "metadata": {}
  },
  {
   "cell_type": "code",
   "execution_count": 2,
   "metadata": {},
   "outputs": [],
   "source": [
    "# Problem-1\n",
    "import numpy as np"
   ]
  },
  {
   "cell_type": "code",
   "execution_count": 3,
   "metadata": {},
   "outputs": [
    {
     "output_type": "execute_result",
     "data": {
      "text/plain": [
       "array([[0.4884106 , 0.841197  , 0.92972905, 0.81478312],\n",
       "       [0.00285578, 0.65105409, 0.35460311, 0.77983838],\n",
       "       [0.6406516 , 0.79429484, 0.75529886, 0.60747899],\n",
       "       [0.25302004, 0.75900364, 0.02420674, 0.8016658 ],\n",
       "       [0.55828978, 0.54174369, 0.25533069, 0.84827296]])"
      ]
     },
     "metadata": {},
     "execution_count": 3
    }
   ],
   "source": [
    "x = np.random.rand(5,4)\n",
    "x # here values will be in the range of [0,1) and 1 not included."
   ]
  },
  {
   "cell_type": "code",
   "execution_count": 4,
   "metadata": {},
   "outputs": [
    {
     "output_type": "execute_result",
     "data": {
      "text/plain": [
       "(5, 4)"
      ]
     },
     "metadata": {},
     "execution_count": 4
    }
   ],
   "source": [
    "x.shape # shape we confuse with \"shape()\", so be carefull"
   ]
  },
  {
   "cell_type": "code",
   "execution_count": 5,
   "metadata": {},
   "outputs": [
    {
     "output_type": "stream",
     "name": "stdout",
     "text": [
      "float64\n"
     ]
    }
   ],
   "source": [
    "print(x.dtype) # dtype gives the data type of the array\n",
    "# Ususally people get confuse with \"dtype()\""
   ]
  },
  {
   "cell_type": "code",
   "execution_count": 6,
   "metadata": {},
   "outputs": [
    {
     "output_type": "execute_result",
     "data": {
      "text/plain": [
       "1073741824.0"
      ]
     },
     "metadata": {},
     "execution_count": 6
    }
   ],
   "source": [
    "s = np.power(8, 10, dtype = np.float64)\n",
    "s"
   ]
  },
  {
   "cell_type": "code",
   "execution_count": 10,
   "metadata": {},
   "outputs": [
    {
     "output_type": "stream",
     "name": "stdout",
     "text": [
      "[[1.24468793 1.13877326 0.73795306 0.15409505]\n [0.73177699 0.78411509 1.37652122 0.3957542 ]\n [0.90644524 0.99578808 0.95638235 1.01284644]\n [0.36048161 1.10601023 1.05686561 0.79701748]\n [1.1248196  0.09236204 0.36532509 0.89647369]]\n"
     ]
    }
   ],
   "source": [
    "x1 = np.random.rand(5,4)\n",
    "x2 = np.random.rand(5,4)\n",
    "print(x1+x2)"
   ]
  },
  {
   "cell_type": "code",
   "execution_count": null,
   "metadata": {},
   "outputs": [],
   "source": []
  }
 ]
}