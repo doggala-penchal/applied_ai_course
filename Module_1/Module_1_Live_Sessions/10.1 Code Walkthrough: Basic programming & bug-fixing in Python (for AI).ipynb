{
 "metadata": {
  "language_info": {
   "codemirror_mode": {
    "name": "ipython",
    "version": 3
   },
   "file_extension": ".py",
   "mimetype": "text/x-python",
   "name": "python",
   "nbconvert_exporter": "python",
   "pygments_lexer": "ipython3",
   "version": "3.8.3-final"
  },
  "orig_nbformat": 2,
  "kernelspec": {
   "name": "python3",
   "display_name": "Python 3.8.3 64-bit ('ML_COURSE': conda)",
   "metadata": {
    "interpreter": {
     "hash": "4e373a7bcbe8aeb1ad3ed4327ec2b86a8c8f03d08f96d378898be636831c1609"
    }
   }
  }
 },
 "nbformat": 4,
 "nbformat_minor": 2,
 "cells": [
  {
   "source": [
    "# Objective : Learning to solve basic python programs."
   ],
   "cell_type": "markdown",
   "metadata": {}
  },
  {
   "cell_type": "code",
   "execution_count": 6,
   "metadata": {},
   "outputs": [],
   "source": [
    "# Problem-1\n",
    "import numpy as np"
   ]
  },
  {
   "cell_type": "code",
   "execution_count": 7,
   "metadata": {},
   "outputs": [
    {
     "output_type": "execute_result",
     "data": {
      "text/plain": [
       "array([[0.13118107, 0.3701664 , 0.52010038, 0.46504495],\n",
       "       [0.62604378, 0.15713982, 0.21198462, 0.01744835],\n",
       "       [0.43638038, 0.19853765, 0.82892409, 0.74314872],\n",
       "       [0.2368069 , 0.75695916, 0.03391   , 0.41027571],\n",
       "       [0.10878187, 0.16202742, 0.32911246, 0.48698386]])"
      ]
     },
     "metadata": {},
     "execution_count": 7
    }
   ],
   "source": [
    "x = np.random.rand(5,4)\n",
    "x # here values will be in the range of [0,1) and 1 not included."
   ]
  },
  {
   "cell_type": "code",
   "execution_count": 8,
   "metadata": {},
   "outputs": [
    {
     "output_type": "execute_result",
     "data": {
      "text/plain": [
       "(5, 4)"
      ]
     },
     "metadata": {},
     "execution_count": 8
    }
   ],
   "source": [
    "x.shape # shape we confuse with \"shape()\", so be carefull"
   ]
  },
  {
   "cell_type": "code",
   "execution_count": 9,
   "metadata": {},
   "outputs": [
    {
     "output_type": "stream",
     "name": "stdout",
     "text": [
      "float64\n"
     ]
    }
   ],
   "source": [
    "print(x.dtype) # dtype gives the data type of the array\n",
    "# Ususally people get confuse with \"dtype()\""
   ]
  },
  {
   "cell_type": "code",
   "execution_count": 10,
   "metadata": {},
   "outputs": [
    {
     "output_type": "execute_result",
     "data": {
      "text/plain": [
       "1073741824.0"
      ]
     },
     "metadata": {},
     "execution_count": 10
    }
   ],
   "source": [
    "s = np.power(8, 10, dtype = np.float64)\n",
    "s"
   ]
  },
  {
   "cell_type": "code",
   "execution_count": 11,
   "metadata": {},
   "outputs": [
    {
     "output_type": "stream",
     "name": "stdout",
     "text": [
      "[[1.28488698 1.12174426 0.60122713 0.72310632]\n [1.44021069 1.36011726 1.22250356 1.93096767]\n [1.49519877 1.4444935  1.46994956 1.11133906]\n [1.09859196 0.71224191 1.09776039 0.79899483]\n [1.70317288 1.07181178 0.8894128  1.63782745]]\n"
     ]
    }
   ],
   "source": [
    "x1 = np.random.rand(5,4)\n",
    "x2 = np.random.rand(5,4)\n",
    "print(x1+x2)"
   ]
  },
  {
   "cell_type": "code",
   "execution_count": 12,
   "metadata": {},
   "outputs": [
    {
     "output_type": "stream",
     "name": "stdout",
     "text": [
      "[[1.28488698 1.12174426 0.60122713 0.72310632]\n [1.44021069 1.36011726 1.22250356 1.93096767]\n [1.49519877 1.4444935  1.46994956 1.11133906]\n [1.09859196 0.71224191 1.09776039 0.79899483]\n [1.70317288 1.07181178 0.8894128  1.63782745]]\n"
     ]
    }
   ],
   "source": [
    "X = x1+x2 \n",
    "print(X)"
   ]
  },
  {
   "cell_type": "code",
   "execution_count": 13,
   "metadata": {},
   "outputs": [
    {
     "output_type": "execute_result",
     "data": {
      "text/plain": [
       "1.1113390637254144"
      ]
     },
     "metadata": {},
     "execution_count": 13
    }
   ],
   "source": [
    "X[2][3]"
   ]
  },
  {
   "cell_type": "code",
   "execution_count": 14,
   "metadata": {},
   "outputs": [
    {
     "output_type": "execute_result",
     "data": {
      "text/plain": [
       "1.1113390637254144"
      ]
     },
     "metadata": {},
     "execution_count": 14
    }
   ],
   "source": [
    "X[2,3] # here we need not do [2][3] in traditional way, we can directly write [2,3] which it self takes the value 2 as row and 3 as column.Common error people make is X(2,3) which is where the brackets gets confused. but one way of using that brackets is X[(2,3)] which is similar to X[2,3] but not to X(2,3)"
   ]
  },
  {
   "cell_type": "code",
   "execution_count": 15,
   "metadata": {},
   "outputs": [
    {
     "output_type": "execute_result",
     "data": {
      "text/plain": [
       "1.1113390637254144"
      ]
     },
     "metadata": {},
     "execution_count": 15
    }
   ],
   "source": [
    "X[(2,3)] # X[(2,3)] ~~ X[2,3]"
   ]
  },
  {
   "cell_type": "code",
   "execution_count": 16,
   "metadata": {},
   "outputs": [],
   "source": [
    "(r, c) = X.shape"
   ]
  },
  {
   "cell_type": "code",
   "execution_count": 17,
   "metadata": {},
   "outputs": [
    {
     "output_type": "stream",
     "name": "stdout",
     "text": [
      "5\n"
     ]
    }
   ],
   "source": [
    "print(r)"
   ]
  },
  {
   "cell_type": "code",
   "execution_count": 18,
   "metadata": {},
   "outputs": [
    {
     "output_type": "stream",
     "name": "stdout",
     "text": [
      "4\n"
     ]
    }
   ],
   "source": [
    "print(c)"
   ]
  },
  {
   "cell_type": "code",
   "execution_count": 19,
   "metadata": {},
   "outputs": [
    {
     "output_type": "execute_result",
     "data": {
      "text/plain": [
       "array([[0, 0, 0],\n",
       "       [0, 0, 0]])"
      ]
     },
     "metadata": {},
     "execution_count": 19
    }
   ],
   "source": [
    "V = np.zeros((2,3), dtype = 'int')\n",
    "V"
   ]
  },
  {
   "source": [
    "Print(\"Cx, Cy, Cr\")\n",
    "\n",
    "Cx, Cy, Cr = input().split(' ')\n",
    "\n",
    "print(Cx, Cy, Cr)\n",
    "\n"
   ],
   "cell_type": "markdown",
   "metadata": {}
  },
  {
   "cell_type": "code",
   "execution_count": 20,
   "metadata": {},
   "outputs": [
    {
     "output_type": "error",
     "ename": "ValueError",
     "evalue": "not enough values to unpack (expected 3, got 0)",
     "traceback": [
      "\u001b[0;31m---------------------------------------------------------------------------\u001b[0m",
      "\u001b[0;31mValueError\u001b[0m                                Traceback (most recent call last)",
      "\u001b[0;32m<ipython-input-20-e789426d8902>\u001b[0m in \u001b[0;36m<module>\u001b[0;34m\u001b[0m\n\u001b[0;32m----> 1\u001b[0;31m \u001b[0mcx\u001b[0m\u001b[0;34m,\u001b[0m \u001b[0mcy\u001b[0m\u001b[0;34m,\u001b[0m \u001b[0mcr\u001b[0m \u001b[0;34m=\u001b[0m \u001b[0minput\u001b[0m\u001b[0;34m(\u001b[0m\u001b[0;34m)\u001b[0m\u001b[0;34m.\u001b[0m\u001b[0msplit\u001b[0m\u001b[0;34m(\u001b[0m\u001b[0;34m)\u001b[0m\u001b[0;34m\u001b[0m\u001b[0;34m\u001b[0m\u001b[0m\n\u001b[0m\u001b[1;32m      2\u001b[0m \u001b[0mprint\u001b[0m\u001b[0;34m(\u001b[0m\u001b[0mcx\u001b[0m\u001b[0;34m,\u001b[0m \u001b[0mcy\u001b[0m\u001b[0;34m,\u001b[0m \u001b[0mcr\u001b[0m\u001b[0;34m)\u001b[0m\u001b[0;34m\u001b[0m\u001b[0;34m\u001b[0m\u001b[0m\n",
      "\u001b[0;31mValueError\u001b[0m: not enough values to unpack (expected 3, got 0)"
     ]
    }
   ],
   "source": [
    "cx, cy, cr = input().split()\n",
    "print(cx, cy, cr)"
   ]
  },
  {
   "cell_type": "code",
   "execution_count": 23,
   "metadata": {},
   "outputs": [
    {
     "output_type": "execute_result",
     "data": {
      "text/plain": [
       "array([[0.17749929, 0.22506567, 0.34221154, 0.86415921],\n",
       "       [0.36653144, 0.07146516, 0.42740553, 0.94824702],\n",
       "       [0.81660518, 0.57345792, 0.87124071, 0.9108316 ]])"
      ]
     },
     "metadata": {},
     "execution_count": 23
    }
   ],
   "source": [
    "a1 = np.random.rand(3,4)\n",
    "a1\n"
   ]
  },
  {
   "cell_type": "code",
   "execution_count": 24,
   "metadata": {},
   "outputs": [
    {
     "output_type": "execute_result",
     "data": {
      "text/plain": [
       "array([[0.41193617, 0.42901055, 0.24417962, 0.84921901, 0.24328824,\n",
       "        0.33719878, 0.51783225],\n",
       "       [0.19038027, 0.78708828, 0.87049034, 0.73313366, 0.99271455,\n",
       "        0.05244182, 0.95085023],\n",
       "       [0.40957963, 0.91577691, 0.03140872, 0.56046124, 0.68978564,\n",
       "        0.88321091, 0.00288928]])"
      ]
     },
     "metadata": {},
     "execution_count": 24
    }
   ],
   "source": [
    "a2 = np.random.rand(3,7)\n",
    "a2"
   ]
  },
  {
   "cell_type": "code",
   "execution_count": 28,
   "metadata": {},
   "outputs": [
    {
     "output_type": "execute_result",
     "data": {
      "text/plain": [
       "array([[0.17749929, 0.22506567, 0.34221154, 0.86415921, 0.41193617,\n",
       "        0.42901055, 0.24417962, 0.84921901, 0.24328824, 0.33719878,\n",
       "        0.51783225],\n",
       "       [0.36653144, 0.07146516, 0.42740553, 0.94824702, 0.19038027,\n",
       "        0.78708828, 0.87049034, 0.73313366, 0.99271455, 0.05244182,\n",
       "        0.95085023],\n",
       "       [0.81660518, 0.57345792, 0.87124071, 0.9108316 , 0.40957963,\n",
       "        0.91577691, 0.03140872, 0.56046124, 0.68978564, 0.88321091,\n",
       "        0.00288928]])"
      ]
     },
     "metadata": {},
     "execution_count": 28
    }
   ],
   "source": [
    "a = np.hstack((a1, a2))\n",
    "a"
   ]
  },
  {
   "cell_type": "code",
   "execution_count": null,
   "metadata": {},
   "outputs": [],
   "source": []
  }
 ]
}